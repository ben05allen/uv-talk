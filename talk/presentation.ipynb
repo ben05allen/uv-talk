{
 "cells": [
  {
   "cell_type": "markdown",
   "metadata": {
    "slideshow": {
     "slide_type": "slide"
    }
   },
   "source": [
    "<h1><span style=\"color:DodgerBlue\">An Introduction to </span><span style=\"color:GreenYellow; background:Indigo; border-radius: 1.5rem; padding: 0.25rem 1rem\">uv</span></h1>  \n",
    "\n",
    "One tool to rule them all - but is there a Mt Doom?\n",
    "\n",
    "![We all know what happens next](media/Gollum.jpg)"
   ]
  },
  {
   "cell_type": "markdown",
   "metadata": {
    "slideshow": {
     "slide_type": "slide"
    }
   },
   "source": [
    "<h3 style=\"color:DodgerBlue\">Who am I?</h3>\n",
    "\n",
    "* I'm Ben, and I live in Namegawa, Japan, which is about 70km NW from Tokyo, in Saitama Prefecture.\n",
    "* I primarily write code in Python as well as TypeScript and VueJS/NUXT.\n",
    "* I work with Rally, which is a start-up offering consulting and data analytics services.\n",
    "* At Rally we use Azure microservices for almost all of our back-end, as such a lot of my work projects tend to be small mono-repos, more on this later.\n",
    "* **Disclaimer:** I have no connection to `uv`, nor Astral and I've not contributed to the project, to Rye or to any other of their projects."
   ]
  },
  {
   "cell_type": "markdown",
   "metadata": {
    "slideshow": {
     "slide_type": "slide"
    }
   },
   "source": [
    "<h3 style=\"color:DodgerBlue\">What is uv?</h3>\n",
    "\n",
    "**Starter for 10**:  Does anyone know what `uv` is short for?\n",
    "\n",
    "And [this is what its creators, Astral](https://docs.astral.sh/uv/) have to say about it. "
   ]
  },
  {
   "cell_type": "markdown",
   "metadata": {
    "slideshow": {
     "slide_type": "slide"
    }
   },
   "source": [
    "<h3 style=\"color:DodgerBlue\">Not so scientific speed test</h3>\n",
    "\n",
    "Let's not beat around the bush, **the main selling point** for `uv` is its speed over tools like `pip`, `venv`, and `pyenv`.\n",
    "\n",
    "| Task            | `venv` and `pip` | `uv`                |\n",
    "| :-------------- | ---------------: | ------------------: |\n",
    "| Create venv     |               |                |\n",
    "| Install Jupyter |              |                 |\n"
   ]
  },
  {
   "cell_type": "markdown",
   "metadata": {
    "slideshow": {
     "slide_type": "slide"
    }
   },
   "source": [
    "<h3 style=\"color:DodgerBlue\">OK it's fast, but what problem is it solving?</h3>\n",
    "\n",
    "Elliot Simpson used this Venn Diagram at it his Kiwi PyCon talk [Rye Is all You Need](https://www.youtube.com/watch?v=ndz-tfCfsmw). \n",
    "\n",
    "It's originally from a talk Anna-Lena Popkes gave at [Euro PyCon in 2023](https://www.youtube.com/watch?v=3-drZY3u5vo), which she has since updated on her [blog](https://alpopkes.com/posts/python/packaging_tools/) in August.   \n",
    "\n",
    "So there seem to be a lot of different tools, a situation perhaps not as *pythonic* as it could.\n",
    "\n",
    "![Python Packaging as at August 2024](media/venn_diagram_updated_08_2024.png)"
   ]
  },
  {
   "cell_type": "markdown",
   "metadata": {
    "slideshow": {
     "slide_type": "slide"
    }
   },
   "source": [
    "<h3 style=\"color:DodgerBlue\">#13 from The Zen of Python, by Tim Peters</h3>\n",
    "\n",
    "There should be one-- and preferably only one --obvious way to do it."
   ]
  },
  {
   "cell_type": "markdown",
   "metadata": {
    "slideshow": {
     "slide_type": "slide"
    }
   },
   "source": [
    "<h3 style=\"color:DodgerBlue\">We <em>need</em> a new standard</h3>\n",
    "\n",
    "![Proliferation of Standard](media/How-Standards-proliferate.webp)\n",
    "\n",
    "\"*Python has a lot of packaging tools and what better way to solve the problem than to add another one!*\" -- Armin Ronacher (@mitsuhiko)\n",
    "\n",
    "This [xkcd](https://xkcd.com/927/) cartoon is now almost obligatory when talking about Python packaging.  \n",
    "\n",
    "Again, Elliot used it in his Kiwi PyCon talk, and it was also used in [Armin Ronacher's Euro PyCon 2024 keynote on Rye](https://www.youtube.com/watch?v=skTKaHVIL1c), \"The Catch in Rye: Seeding Change and Lessons Learned\"."
   ]
  },
  {
   "cell_type": "markdown",
   "metadata": {
    "slideshow": {
     "slide_type": "slide"
    }
   },
   "source": [
    "<h3 style=\"color:DodgerBlue\">Who is Armin Ronacher, and what's the deal with Rye?</h3>\n",
    "\n",
    "* Prominent Austrian software developer\n",
    "* Key figure behind the Pellets project -- he created the Flask framework, as legend goes, initially as a April Fools Day joke.  \n",
    "* As well as his OSS contributions he also writes software in Rust and works for the Software firm *Sentry*.  "
   ]
  },
  {
   "cell_type": "markdown",
   "metadata": {
    "slideshow": {
     "slide_type": "slide"
    }
   },
   "source": [
    "<h3 style=\"color:DodgerBlue\">Who is Armin Ronacher, and what's the deal with Rye? (cont.)</h3>\n",
    "\n",
    "* Armin developed **Rye** as a internal packaging solution for Sentry \n",
    "* Rye is heavily influenced by Cargo in Rust \n",
    "* Designed to alleviate the inconsistencies between Python development environments across Mac, Windows and Linux.  \n",
    "* Think of Rye as an *orchestration tool*, it was built on top of tools already available to provide a consistent developer experience regardless of platform\n",
    "* For example it uses `pip-tools` to manage dependencies.  \n",
    "* In 2023 Rye was open sourced and later, in 2024, Armin handed over stewardship of Rye to Astral."
   ]
  },
  {
   "cell_type": "markdown",
   "metadata": {
    "slideshow": {
     "slide_type": "slide"
    }
   },
   "source": [
    "<h3 style=\"color:DodgerBlue\">uv as the succesor to Rye</h3>\n",
    "\n",
    "As we saw when `uv` first appeared on the scene in February, 2024, it's first iteration was basically as a substitute for pip. \n",
    "\n",
    "Soon after, Rye adopted `uv` as its choice for resolving and downloading packages.\n",
    "\n",
    "Later in August Astral, headed up by Charlie Marsh, released a blog called [uv: Unified Python Packaging](https://astral.sh/blog/uv-unified-python-packaging) \n",
    "\n",
    "> Today, we're announcing a series of features that extend uv beyond a pip alternative, and into an end-to-end solution for managing Python projects, command-line tools, single-file scripts, and even Python itself.\n",
    "\n",
    "By doing do, moving `uv` down to join Rye in the centre of that Venn Diagram of Anna-Lena.  "
   ]
  },
  {
   "cell_type": "markdown",
   "metadata": {
    "slideshow": {
     "slide_type": "slide"
    }
   },
   "source": [
    "<h3 style=\"color:DodgerBlue\">So, who is Astral then?</h3>\n",
    "\n",
    "In short, Astral is a venture-capital backed company;\n",
    "* founded by Charlie Marsh\n",
    "* it also maintains `ruff`, the Python linter (written in Rust), as well as Rye\n",
    "* `uv`, `rye` and `ruff` **are all open-source projects**.  If you want to contribute to any of them you can. \n",
    "* As of October 15th, `uv` had [207 contributors and still 855 open issues](https://github.com/astral-sh/uv) -- just incase you thought packaging was an easy problem.\n",
    "* `uv` is licensed under either the Apache License, version 2.0 or the MIT license, at your discretion."
   ]
  },
  {
   "cell_type": "markdown",
   "metadata": {
    "slideshow": {
     "slide_type": "slide"
    }
   },
   "source": [
    "<h3 style=\"color:DodgerBlue\">What's the deal with VC funding?</h3>\n",
    "\n",
    "There has been plenty of discussion, as documented by Simon Willison in his [September blog](https://simonwillison.net/2024/Sep/8/uv-under-discussion-on-mastodon/) about Astral, its ownership structure and even the choice of language (Rust).  Common questions were;\n",
    "1. will Astral start charge for `uv`?\n",
    "2. how do their VC backers monetize the work Astral does?\n",
    "3. what happens if Charlie leaves Astral?\n",
    "4. even, should Python infrastructure be written in a language like Rust?\n",
    "\n",
    "As an aside consider for a moment the current litigation battle between Automattic vs WP Engine!  \n",
    "\n",
    "I can't give you the answer to these questions, but perhaps Armin can. "
   ]
  },
  {
   "cell_type": "markdown",
   "metadata": {
    "slideshow": {
     "slide_type": "slide"
    }
   },
   "source": [
    "<h3 style=\"color:DodgerBlue\">In Armin's Words</h3>\n",
    "\n",
    "Armin's [blog](https://lucumr.pocoo.org/2024/8/21/harvest-season/) from August 2024 outlines his thoughts on python packaging, Rye and `uv`.  The take-aways are;\n",
    "\n",
    "> 1. \"If you are using Rye today, consider this blog post as a reminder that you should probably [start] (*sic*) having a closer look at uv and give feedback to the Astral folks.\"\n",
    "> 2. \"Postscriptum: there is an elephant in the room which is that Astral is a VC funded company. What does that mean for the future of these tools? Here is my take on this: for the community having someone pour money into it can create some challenges. For the PSF and the core Python project this is something that should be considered. However having seen the code and what uv is doing, ***even in the worst possible future this is a very forkable and maintainable thing***\\*. I believe that even in case Astral shuts down or were to do something incredibly dodgy licensing wise, the community would be better off than before uv existed.\"  \n",
    "\n",
    "\\* My emphasis "
   ]
  },
  {
   "cell_type": "markdown",
   "metadata": {
    "slideshow": {
     "slide_type": "slide"
    }
   },
   "source": [
    "<h3 style=\"color:DodgerBlue\">What makes `uv` so fast?</h3>\n",
    "\n",
    "Let's focus on why `uv` has been getting so much air time since Charlie's blog in August.  I believe there are 3 main points to consider;\n",
    "\n",
    "<h5 style=\"color:DodgerBlue\">1. Rust Package Resolution</h5>\n",
    "\n",
    "Package resolution is generally regarded as *NP-Complete* (akin to the Boolean satisfiability problem), in the worst cast all possibilities need to be tried.  But good heuristics are available and can solve large problem instances.  `uv` uses `pubgrub-rs`, a Rust implementation of [`PubGrub`](https://pubgrub-rs-guide.pages.dev/internals/intro), an *incremental version solver* algorithm.\n",
    "\n",
    "Just as importantly, `uv` creates lockfiles which pin dependencies regardless of operating system or Python version.  By default `uv` will try to use the most recent version of each package."
   ]
  },
  {
   "cell_type": "markdown",
   "metadata": {
    "slideshow": {
     "slide_type": "slide"
    }
   },
   "source": [
    "<h3 style=\"color:DodgerBlue\">What makes `uv` so fast? (cont.)</h3>\n",
    "\n",
    "<h5 style=\"color:DodgerBlue\">2. Concurrent Package Downloads</h5>\n",
    "\n",
    "Once package versions are resolved required downloads happen concurrently, while other package managers may download sequentially by default (ie `pip`).\n",
    "\n",
    "<h5 style=\"color:DodgerBlue\">3. Caching</h5>\n",
    "\n",
    "`uv` uses caching to avoid downloading where possible, the cache is designed so that it can be used concurrently, as well as with continuous integration environments.  Caching isn't unique to `uv`, you can set up caching with `pip`, however the stated policy of `uv` is to cache *aggressively*.  \n",
    "\n",
    "Caching also helps reduce the number of downloads your project makes from PyPI.  According to [Michael Kennedy](https://mkennedy.codes/posts/lets-go-easy-on-pypi-ok/) more than 284 billion downloads were made in 2023 alone."
   ]
  },
  {
   "cell_type": "markdown",
   "metadata": {
    "slideshow": {
     "slide_type": "slide"
    }
   },
   "source": [
    "<h3 style=\"color:DodgerBlue\">Using a <span style=\"font-family:monospace\">pyproject.toml</span> file instead of a <span style=\"font-family:monospace\">requirements.txt</span></h3>\n",
    "\n",
    "[Writing your `pyproject.toml` file](https://packaging.python.org/en/latest/guides/writing-pyproject-toml/#writing-pyproject-toml) from `Python.org` is a handy introduction to using a `pyproject.toml` file in your project.\n",
    "\n",
    "The file consists of 3 optional tables;\n",
    "1. build-system - declares the backend build system \n",
    "2. project - where project metadata is specified, including project dependencies and python version.\n",
    "3. tool - for adding tool specific subtables for tools such as black or mypy\n",
    "\n",
    "As we'll see the `project` section of the `pyproject.toml` allows `uv` to work its magic ✨"
   ]
  },
  {
   "cell_type": "markdown",
   "metadata": {
    "slideshow": {
     "slide_type": "slide"
    }
   },
   "source": [
    "<h3 style=\"color:DodgerBlue\">My 2 cents worth</h3>\n",
    "\n",
    "1. Speed matters - using uv means a virtual environment costs almost nothing to set up, it's almost longer for us to change directory than to set up.  So, `uv` enables new workflows.\n",
    "2. On the shoulders of giants - tools, such as `uv`, are an evolution, they come about from the months of work that people have put into tools like `pip`, `pip-tools` or `poetry` previously.\n",
    "3. A rising tide lifts all boats, c.f. Pandas vs Polars, black vs ruff, Node vs Deno (in the Javascript world) -- none of these are going away anytime soon, in fact features tend to flow between them."
   ]
  }
 ],
 "metadata": {
  "kernelspec": {
   "display_name": ".venv",
   "language": "python",
   "name": "python3"
  },
  "language_info": {
   "codemirror_mode": {
    "name": "ipython",
    "version": 3
   },
   "file_extension": ".py",
   "mimetype": "text/x-python",
   "name": "python",
   "nbconvert_exporter": "python",
   "pygments_lexer": "ipython3",
   "version": "3.12.3"
  }
 },
 "nbformat": 4,
 "nbformat_minor": 2
}
