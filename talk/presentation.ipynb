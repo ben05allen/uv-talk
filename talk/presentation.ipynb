{
 "cells": [
  {
   "cell_type": "markdown",
   "metadata": {},
   "source": [
    "# An Introduction to `uv`\n",
    "One too to rule them all - but is VC-Funding a Mt Doom?\n",
    "\n",
    "![We all know what happens next](media/Gollum.jpg)"
   ]
  },
  {
   "cell_type": "markdown",
   "metadata": {},
   "source": [
    "### Who am I?\n",
    "* I'm Ben, and I live in Namegawa, Japan, which is about 60km NW from Tokyo, in Saitama Prefecture.\n",
    "* I primarily write code in Python, TypeScript and VueJS/NUXT.\n",
    "* I work with a company called Rally, which offers consulting and data analytics services.\n",
    "* At Rally we use Azure microservices for almost all of our back-end, as such alot of my work projects tend to be small mono-repos, more on this later.\n",
    "* **Disclaimer:** I have no connection to `uv`, nor Astral and I've not contributed to the project, to Rye or to any other of their projects."
   ]
  },
  {
   "cell_type": "markdown",
   "metadata": {},
   "source": [
    "#### Not so scientific speed test\n",
    "Let's not beat around the bush, **the main selling point** for `uv` is its speed over tools like `pip`, `venv`, poetry and `pyenv`.\n",
    "\n",
    "| Task            | `venv` and `pip` | `uv`   |\n",
    "| :-------------- | ---------------: | -----: |\n",
    "| Create venv     |                  |        |\n",
    "| Install Jupyter |                  |        |"
   ]
  },
  {
   "cell_type": "markdown",
   "metadata": {},
   "source": [
    "#### OK, so what's the problem with Python Packaging?"
   ]
  },
  {
   "cell_type": "code",
   "execution_count": 1,
   "metadata": {},
   "outputs": [
    {
     "name": "stdout",
     "output_type": "stream",
     "text": [
      "The Zen of Python, by Tim Peters\n",
      "\n",
      "Beautiful is better than ugly.\n",
      "Explicit is better than implicit.\n",
      "Simple is better than complex.\n",
      "Complex is better than complicated.\n",
      "Flat is better than nested.\n",
      "Sparse is better than dense.\n",
      "Readability counts.\n",
      "Special cases aren't special enough to break the rules.\n",
      "Although practicality beats purity.\n",
      "Errors should never pass silently.\n",
      "Unless explicitly silenced.\n",
      "In the face of ambiguity, refuse the temptation to guess.\n",
      "There should be one-- and preferably only one --obvious way to do it.\n",
      "Although that way may not be obvious at first unless you're Dutch.\n",
      "Now is better than never.\n",
      "Although never is often better than *right* now.\n",
      "If the implementation is hard to explain, it's a bad idea.\n",
      "If the implementation is easy to explain, it may be a good idea.\n",
      "Namespaces are one honking great idea -- let's do more of those!\n"
     ]
    }
   ],
   "source": [
    "import this"
   ]
  },
  {
   "cell_type": "markdown",
   "metadata": {},
   "source": [
    "### We **need** a new standard\n",
    "\"*Python has a lot of packaging tools and what better way to solve the problem than to add another one!*\" -- Armin Ronacher (@mitsuhiko, creator of Rye and the Flask framework)\n",
    "\n",
    "![Proliferation of Standard](media/How-Standards-proliferate.webp)\n",
    "\n",
    "This image was also taken from Armin's Euro PyCon 2024 keynote on Rye, \"The Catch in Rye: Seeding Change and Lessons Learned\", so I guess this makes `uv` the 16th competing standard?!\n",
    "\n",
    "[This blog](https://lucumr.pocoo.org/2024/8/21/harvest-season/) outlines Armin's thoughts on python packaging, Rye and `uv`.  The take-aways are;\n",
    "1. \"If you are using Rye today, consider this blog post as a reminder that you should probably starting having a closer look at uv and give feedback to the Astral folks.\"\n",
    "2. \"Postscriptum: there is an elephant in the room which is that Astral is a VC funded company. What does that mean for the future of these tools? Here is my take on this: for the community having someone pour money into it can create some challenges. For the PSF and the core Python project this is something that should be considered. However having seen the code and what uv is doing, ***even in the worst possible future this is a very forkable and maintainable thing***. I believe that even in case Astral shuts down or were to do something incredibly dodgy licensing wise, the community would be better off than before uv existed.\"  (my emphasis)\n",
    "\n",
    "#### `uv` accord to Astral\n",
    "Starter for 10:  Does anyone know what `uv` is short for?\n",
    "\n",
    "From Astral's [website](https://docs.astral.sh/uv/) on October 2nd, here's what we do know;\n",
    "\n",
    "![uv is](media/uv_20241002-195102.png)\n"
   ]
  },
  {
   "cell_type": "markdown",
   "metadata": {},
   "source": [
    "### Who is Astral?\n",
    "Astral is a venture-capital backed private company \n",
    "* founded by Charlie Marsh\n",
    "* also maintain `ruff`, the Python linter (written in Rust)\n",
    "* current the maintainers of Rye (also written in Rust)\n",
    "* `uv` and `ruff` **are** open-source projects, if you want to contribute to either you can, as of October 2nd, `uv` had 196 contributors and still 778 open issues (just incase you thought packaging was an easy problem).\n",
    "* `uv` is licensed under either the Apache License, version 2.0 or the MIT license, at your discretion.\n",
    "\n",
    "However, there is [plenty of debate](https://simonwillison.net/2024/Sep/8/uv-under-discussion-on-mastodon/) about Astral, its ownership structure and even the choice of language (Rust)"
   ]
  },
  {
   "cell_type": "markdown",
   "metadata": {},
   "source": [
    "### What makes `uv` so fast?\n",
    "#### Rust Package Resolution\n",
    "Package resolution is generally regarded as *NP-Complete* (akin to the Boolean satisfiability problem), in the worst cast all possibilities need to be tried.  But good heuristics are available and can solve large problem instances.  `uv` uses `pubgrub-rs`, a Rust implementation of [`PubGrub`](https://pubgrub-rs-guide.pages.dev/internals/intro), an *incremental version solver* algorithm.\n",
    "#### Concurrent Package Downloads\n",
    "Once package versions are resolved required downloads happen concurrently, while other package managers may download sequentially (ie `pip`)\n",
    "#### Caching\n",
    "`uv` uses caching to avoid downloading where possible, the cache is designed so that it can be used concurrently, as well as with continuous integration environments.\n"
   ]
  },
  {
   "cell_type": "markdown",
   "metadata": {},
   "source": [
    "### My 50 cents\n",
    "1. Speed matters - a `venv` costs almost nothing to set up, it's takes longer for us to type `cd`.  A tool like `uv` makes new workflows practical.\n",
    "2. On the shoulders of giants - tools such as `uv` are an evolution, they come about from the mountains of work that people have put into tools like `pip` or `poetry` previously.\n",
    "3. A rising tide lifts all boats, c.f. Pandas & Polars, Node & Deno, black & ruff, npm & bun -- none of these are going away anytime soon, in fact features tend to flow between them."
   ]
  }
 ],
 "metadata": {
  "kernelspec": {
   "display_name": ".venv",
   "language": "python",
   "name": "python3"
  },
  "language_info": {
   "codemirror_mode": {
    "name": "ipython",
    "version": 3
   },
   "file_extension": ".py",
   "mimetype": "text/x-python",
   "name": "python",
   "nbconvert_exporter": "python",
   "pygments_lexer": "ipython3",
   "version": "3.10.14"
  }
 },
 "nbformat": 4,
 "nbformat_minor": 2
}
